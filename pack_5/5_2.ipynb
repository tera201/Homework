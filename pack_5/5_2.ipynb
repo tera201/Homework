{
 "cells": [
  {
   "cell_type": "code",
   "execution_count": 2,
   "metadata": {},
   "outputs": [
    {
     "name": "stdout",
     "output_type": "stream",
     "text": [
      "Количество проходов: 20000\n",
      "Вероятность встречи Иннокентия с Константином  за шайбой:  0.0614\n"
     ]
    }
   ],
   "source": [
    "import random\n",
    "random.seed()\n",
    "t = 0\n",
    "x_axis, y_axis, num = [], [], []\n",
    "step = int(input(\"Количество проходов: \"))\n",
    "for i in range(step):\n",
    "    flag = False\n",
    "    for j in range(5):\n",
    "        n = random.randint(1, 100)\n",
    "        if n <= 11:\n",
    "            flag = True\n",
    "            break\n",
    "    if not flag:\n",
    "        n = random.randint(1, 100)\n",
    "        if n <= 11:\n",
    "            flag = True\n",
    "            t += 1\n",
    "            pass\n",
    "    else:\n",
    "        y_axis.append(t / (i + 1))\n",
    "        x_axis.append(i)\n",
    "        num.append(0.89 ** 5 * 0.11)\n",
    "        pass\n",
    "    y_axis.append(t / (i + 1))\n",
    "    x_axis.append(i)\n",
    "    num.append(0.89** 5 * 0.11)\n",
    "print(\"Вероятность встречи Иннокентия с Константином  за шайбой: \", t / step)"
   ]
  },
  {
   "cell_type": "code",
   "execution_count": 3,
   "metadata": {},
   "outputs": [
    {
     "data": {
      "text/plain": [
       "[<matplotlib.lines.Line2D at 0x7f2b91a43c88>]"
      ]
     },
     "execution_count": 3,
     "metadata": {},
     "output_type": "execute_result"
    },
    {
     "data": {
      "image/png": "[encoded data removed]",
      "text/plain": [
       "<matplotlib.figure.Figure at 0x7f2b93cd7b00>"
      ]
     },
     "metadata": {},
     "output_type": "display_data"
    }
   ],
   "source": [
    "import matplotlib.pyplot as plt\n",
    "import numpy as np\n",
    "%matplotlib inline\n",
    "plt.title(\"вероятности интересной встречи И. с К. от количества итераций: \")\n",
    "plt.plot(x_axis, y_axis, color = 'green')\n",
    "plt.plot(x_axis, num, color  = 'orange')"
   ]
  },
  {
   "cell_type": "code",
   "execution_count": null,
   "metadata": {
    "collapsed": true
   },
   "outputs": [],
   "source": []
  }
 ],
 "metadata": {
  "kernelspec": {
   "display_name": "Python 3",
   "language": "python",
   "name": "python3"
  },
  "language_info": {
   "codemirror_mode": {
    "name": "ipython",
    "version": 3
   },
   "file_extension": ".py",
   "mimetype": "text/x-python",
   "name": "python",
   "nbconvert_exporter": "python",
   "pygments_lexer": "ipython3",
   "version": "3.6.1"
  }
 },
 "nbformat": 4,
 "nbformat_minor": 2
}
