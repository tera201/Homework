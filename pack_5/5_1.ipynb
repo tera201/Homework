{
 "cells": [
  {
   "cell_type": "code",
   "execution_count": 16,
   "metadata": {},
   "outputs": [
    {
     "name": "stdout",
     "output_type": "stream",
     "text": [
      "Введите Т1, Т2, Т3: \n",
      "21 15 35\n",
      "Введите количество кругов: 1000\n",
      "Cреднее время круга:  50.021\n"
     ]
    }
   ],
   "source": [
    "print('Введите Т1, Т2, Т3: ')\n",
    "input_time = input().split()\n",
    "T1, T2, T3 = int(input_time[0]), int(input_time[1]), int(input_time[2])\n",
    "num_of_circles = int(input('Введите количество кругов: '))\n",
    "x_axis_circle, y_axis_time, time_list = [], [], []\n",
    "time_list.append(T1 + T2 + T3)\n",
    "time, time_1, time_2 = 0, 0, 0\n",
    "p = 0\n",
    "\n",
    "time_2 = T1 + T2\n",
    "time += time_2\n",
    "for i in range(1,num_of_circles):\n",
    "    time_2 += T3\n",
    "    p += max(time_2 - time_1, time_1)\n",
    "    x_axis_circle.append(i)\n",
    "    y_axis_time.append(p / i)\n",
    "    time_2 = T2 + max(T1, T3)\n",
    "    time_list.append(time_2)\n",
    "    time_1 = time_2\n",
    "    time += time_2\n",
    "\n",
    "time_2 += T3\n",
    "time += T3\n",
    "time_list.append(T2 + max(T1, T3))\n",
    "x_axis_circle.append(num_of_circles)\n",
    "y_axis_time.append(time / num_of_circles)\n",
    "print('Cреднее время круга: ', time  / num_of_circles)"
   ]
  },
  {
   "cell_type": "code",
   "execution_count": 17,
   "metadata": {
    "scrolled": true
   },
   "outputs": [
    {
     "data": {
      "text/plain": [
       "[<matplotlib.lines.Line2D at 0x7f00edb19470>]"
      ]
     },
     "execution_count": 17,
     "metadata": {},
     "output_type": "execute_result"
    },
    {
     "data": {
      "image/png": "[encoded data removed]",
      "text/plain": [
       "<matplotlib.figure.Figure at 0x7f00eda8dd30>"
      ]
     },
     "metadata": {},
     "output_type": "display_data"
    }
   ],
   "source": [
    "import matplotlib.pyplot as plt\n",
    "import numpy as np\n",
    "%matplotlib inline\n",
    "plt.title('Зависимость среднего времени круга от их количества: ')\n",
    "plt.plot(x_axis_circle, y_axis_time, color = 'red')"
   ]
  },
  {
   "cell_type": "code",
   "execution_count": null,
   "metadata": {
    "collapsed": true
   },
   "outputs": [],
   "source": []
  },
  {
   "cell_type": "code",
   "execution_count": null,
   "metadata": {
    "collapsed": true
   },
   "outputs": [],
   "source": []
  }
 ],
 "metadata": {
  "kernelspec": {
   "display_name": "Python 3",
   "language": "python",
   "name": "python3"
  },
  "language_info": {
   "codemirror_mode": {
    "name": "ipython",
    "version": 3
   },
   "file_extension": ".py",
   "mimetype": "text/x-python",
   "name": "python",
   "nbconvert_exporter": "python",
   "pygments_lexer": "ipython3",
   "version": "3.6.1"
  }
 },
 "nbformat": 4,
 "nbformat_minor": 1
}
